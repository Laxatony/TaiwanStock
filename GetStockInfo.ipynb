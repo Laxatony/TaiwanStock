{
 "cells": [
  {
   "cell_type": "markdown",
   "metadata": {},
   "source": [
    "# *Install Taiwan Stock Package using \"pip install twstock\", then you can start using the package*"
   ]
  },
  {
   "cell_type": "markdown",
   "metadata": {},
   "source": [
    "========================================================================================================================="
   ]
  },
  {
   "cell_type": "code",
   "execution_count": 1,
   "metadata": {
    "collapsed": true
   },
   "outputs": [],
   "source": [
    "import twstock"
   ]
  },
  {
   "cell_type": "code",
   "execution_count": 11,
   "metadata": {
    "collapsed": true
   },
   "outputs": [],
   "source": [
    "import pandas as pd"
   ]
  },
  {
   "cell_type": "code",
   "execution_count": 34,
   "metadata": {
    "collapsed": true
   },
   "outputs": [],
   "source": [
    "%matplotlib inline\n",
    "import matplotlib.pyplot as plt"
   ]
  },
  {
   "cell_type": "markdown",
   "metadata": {},
   "source": [
    "## 1.Get Target Stock"
   ]
  },
  {
   "cell_type": "code",
   "execution_count": 50,
   "metadata": {},
   "outputs": [
    {
     "data": {
      "text/plain": [
       "'2330'"
      ]
     },
     "execution_count": 50,
     "metadata": {},
     "output_type": "execute_result"
    }
   ],
   "source": [
    "targetStock = twstock.Stock('2330')\n",
    "targetStock.sid # show stock id"
   ]
  },
  {
   "cell_type": "code",
   "execution_count": 51,
   "metadata": {},
   "outputs": [
    {
     "data": {
      "text/plain": [
       "['__class__',\n",
       " '__delattr__',\n",
       " '__dict__',\n",
       " '__dir__',\n",
       " '__doc__',\n",
       " '__eq__',\n",
       " '__format__',\n",
       " '__ge__',\n",
       " '__getattribute__',\n",
       " '__gt__',\n",
       " '__hash__',\n",
       " '__init__',\n",
       " '__init_subclass__',\n",
       " '__le__',\n",
       " '__lt__',\n",
       " '__module__',\n",
       " '__ne__',\n",
       " '__new__',\n",
       " '__reduce__',\n",
       " '__reduce_ex__',\n",
       " '__repr__',\n",
       " '__setattr__',\n",
       " '__sizeof__',\n",
       " '__str__',\n",
       " '__subclasshook__',\n",
       " '__weakref__',\n",
       " '_month_year_iter',\n",
       " 'capacity',\n",
       " 'change',\n",
       " 'close',\n",
       " 'continuous',\n",
       " 'data',\n",
       " 'date',\n",
       " 'fetch',\n",
       " 'fetch_31',\n",
       " 'fetch_from',\n",
       " 'fetcher',\n",
       " 'high',\n",
       " 'low',\n",
       " 'ma_bias_ratio',\n",
       " 'ma_bias_ratio_pivot',\n",
       " 'moving_average',\n",
       " 'open',\n",
       " 'price',\n",
       " 'raw_data',\n",
       " 'sid',\n",
       " 'transaction',\n",
       " 'turnover']"
      ]
     },
     "execution_count": 51,
     "metadata": {},
     "output_type": "execute_result"
    }
   ],
   "source": [
    "dir(targetStock) # show all functions"
   ]
  },
  {
   "cell_type": "markdown",
   "metadata": {},
   "source": [
    "## 2.Get History Daily Data"
   ]
  },
  {
   "cell_type": "code",
   "execution_count": 52,
   "metadata": {
    "collapsed": true
   },
   "outputs": [],
   "source": [
    "data = targetStock.fetch_from(2017, 9) # get data from 2018/Jan to Current"
   ]
  },
  {
   "cell_type": "code",
   "execution_count": 53,
   "metadata": {},
   "outputs": [
    {
     "data": {
      "text/html": [
       "<div>\n",
       "<style>\n",
       "    .dataframe thead tr:only-child th {\n",
       "        text-align: right;\n",
       "    }\n",
       "\n",
       "    .dataframe thead th {\n",
       "        text-align: left;\n",
       "    }\n",
       "\n",
       "    .dataframe tbody tr th {\n",
       "        vertical-align: top;\n",
       "    }\n",
       "</style>\n",
       "<table border=\"1\" class=\"dataframe\">\n",
       "  <thead>\n",
       "    <tr style=\"text-align: right;\">\n",
       "      <th></th>\n",
       "      <th>date</th>\n",
       "      <th>capacity</th>\n",
       "      <th>turnover</th>\n",
       "      <th>open</th>\n",
       "      <th>high</th>\n",
       "      <th>low</th>\n",
       "      <th>close</th>\n",
       "      <th>change</th>\n",
       "      <th>transaction</th>\n",
       "    </tr>\n",
       "  </thead>\n",
       "  <tbody>\n",
       "    <tr>\n",
       "      <th>84</th>\n",
       "      <td>2018-01-02</td>\n",
       "      <td>18055269</td>\n",
       "      <td>4188555408</td>\n",
       "      <td>231.5</td>\n",
       "      <td>232.5</td>\n",
       "      <td>231.0</td>\n",
       "      <td>232.5</td>\n",
       "      <td>3.0</td>\n",
       "      <td>9954</td>\n",
       "    </tr>\n",
       "    <tr>\n",
       "      <th>85</th>\n",
       "      <td>2018-01-03</td>\n",
       "      <td>31706091</td>\n",
       "      <td>7504382512</td>\n",
       "      <td>236.0</td>\n",
       "      <td>238.0</td>\n",
       "      <td>235.5</td>\n",
       "      <td>237.0</td>\n",
       "      <td>4.5</td>\n",
       "      <td>13633</td>\n",
       "    </tr>\n",
       "  </tbody>\n",
       "</table>\n",
       "</div>"
      ],
      "text/plain": [
       "         date  capacity    turnover   open   high    low  close  change  \\\n",
       "84 2018-01-02  18055269  4188555408  231.5  232.5  231.0  232.5     3.0   \n",
       "85 2018-01-03  31706091  7504382512  236.0  238.0  235.5  237.0     4.5   \n",
       "\n",
       "    transaction  \n",
       "84         9954  \n",
       "85        13633  "
      ]
     },
     "execution_count": 53,
     "metadata": {},
     "output_type": "execute_result"
    }
   ],
   "source": [
    "df = pd.DataFrame(data)\n",
    "df.tail(n=2)"
   ]
  },
  {
   "cell_type": "code",
   "execution_count": 46,
   "metadata": {},
   "outputs": [
    {
     "data": {
      "text/plain": [
       "<matplotlib.axes._subplots.AxesSubplot at 0x2443bf399e8>"
      ]
     },
     "execution_count": 46,
     "metadata": {},
     "output_type": "execute_result"
    },
    {
     "data": {
      "image/png": "[encoded data removed]",
      "text/plain": [
       "<matplotlib.figure.Figure at 0x2443be4ab38>"
      ]
     },
     "metadata": {},
     "output_type": "display_data"
    }
   ],
   "source": [
    "ts = pd.Series(df['close'])\n",
    "ts.plot()"
   ]
  },
  {
   "cell_type": "markdown",
   "metadata": {},
   "source": [
    "## 3.Get Real Time Data"
   ]
  },
  {
   "cell_type": "code",
   "execution_count": 17,
   "metadata": {
    "scrolled": true
   },
   "outputs": [
    {
     "data": {
      "text/plain": [
       "{'info': {'channel': '4906.tw',\n",
       "  'code': '4906',\n",
       "  'fullname': '正文科技股份有限公司',\n",
       "  'name': '正文',\n",
       "  'time': '2018-01-03 21:50:35'},\n",
       " 'realtime': {'accumulate_trade_volume': '32615',\n",
       "  'best_ask_price': ['28.55', '28.60', '28.65', '28.70', '28.75'],\n",
       "  'best_ask_volume': ['44', '54', '30', '88', '102'],\n",
       "  'best_bid_price': ['28.50', '28.45', '28.40', '28.35', '28.30'],\n",
       "  'best_bid_volume': ['304', '156', '122', '138', '245'],\n",
       "  'high': '28.70',\n",
       "  'latest_trade_price': '28.55',\n",
       "  'low': '26.55',\n",
       "  'open': '26.55',\n",
       "  'trade_volume': '11'},\n",
       " 'success': True,\n",
       " 'timestamp': 1515034235.0}"
      ]
     },
     "execution_count": 17,
     "metadata": {},
     "output_type": "execute_result"
    }
   ],
   "source": [
    "targetStock = twstock.realtime.get('4906')\n",
    "targetStock"
   ]
  },
  {
   "cell_type": "code",
   "execution_count": null,
   "metadata": {
    "collapsed": true
   },
   "outputs": [],
   "source": []
  }
 ],
 "metadata": {
  "kernelspec": {
   "display_name": "Python 3",
   "language": "python",
   "name": "python3"
  },
  "language_info": {
   "codemirror_mode": {
    "name": "ipython",
    "version": 3
   },
   "file_extension": ".py",
   "mimetype": "text/x-python",
   "name": "python",
   "nbconvert_exporter": "python",
   "pygments_lexer": "ipython3",
   "version": "3.6.3"
  }
 },
 "nbformat": 4,
 "nbformat_minor": 2
}
